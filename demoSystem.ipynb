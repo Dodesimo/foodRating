{
 "cells": [
  {
   "cell_type": "markdown",
   "source": [
    "# Food Match Algorithm for Ratings\n",
    "Goal: make an algorithm that takes a description and finds the most relevant base rating from a vector database, then uses a simple NER algorithm to scope out a + or -. Very rudimentary, but practical."
   ],
   "metadata": {
    "collapsed": false
   },
   "id": "66460882b0606688"
  },
  {
   "cell_type": "code",
   "execution_count": 1,
   "outputs": [],
   "source": [
    "import pandas as pd"
   ],
   "metadata": {
    "collapsed": false,
    "ExecuteTime": {
     "end_time": "2024-07-09T16:32:20.754372Z",
     "start_time": "2024-07-09T16:32:16.975330Z"
    }
   },
   "id": "72eded08fe7dbe25"
  },
  {
   "cell_type": "code",
   "execution_count": 24,
   "outputs": [],
   "source": [
    "#First, create the mock database entries by just having foods and seperated by \":\""
   ],
   "metadata": {
    "collapsed": false,
    "ExecuteTime": {
     "end_time": "2024-07-09T16:45:50.496438Z",
     "start_time": "2024-07-09T16:45:50.495484Z"
    }
   },
   "id": "9768530f3918da51"
  },
  {
   "cell_type": "code",
   "execution_count": 29,
   "outputs": [
    {
     "name": "stderr",
     "output_type": "stream",
     "text": [
      "Created a chunk of size 21, which is longer than the specified 20\n"
     ]
    }
   ],
   "source": [
    "#Create vector database.\n",
    "from langchain_chroma import Chroma\n",
    "from langchain_community.document_loaders import TextLoader\n",
    "from langchain_openai import OpenAIEmbeddings\n",
    "from langchain_text_splitters import CharacterTextSplitter\n",
    "\n",
    "loader = TextLoader(\"/Users/devam/PycharmProjects/foodRating/food.text\")\n",
    "documents = loader.load()\n",
    "text_splitter = CharacterTextSplitter(separator=\"\\n\", chunk_size=20, chunk_overlap=0)\n",
    "docs = text_splitter.split_documents(documents)\n",
    "\n",
    "embeddings = OpenAIEmbeddings()\n",
    "\n",
    "db = Chroma.from_documents(docs, embeddings)"
   ],
   "metadata": {
    "collapsed": false,
    "ExecuteTime": {
     "end_time": "2024-07-09T16:49:08.938786Z",
     "start_time": "2024-07-09T16:49:08.555639Z"
    }
   },
   "id": "c5599b01330a92db"
  },
  {
   "cell_type": "markdown",
   "source": [
    "Establish vDB as a retriever."
   ],
   "metadata": {
    "collapsed": false
   },
   "id": "9640e5615e2550f2"
  },
  {
   "cell_type": "code",
   "execution_count": 35,
   "outputs": [
    {
     "data": {
      "text/plain": "\"Hershey's Milk Chocolate Bar:D\""
     },
     "execution_count": 35,
     "metadata": {},
     "output_type": "execute_result"
    }
   ],
   "source": [
    "retriever = db.as_retriever(search_type=\"similarity\")\n",
    "match = retriever.invoke(\"Chocolate bar\")[0].page_content\n",
    "match"
   ],
   "metadata": {
    "collapsed": false,
    "ExecuteTime": {
     "end_time": "2024-07-09T16:52:19.627469Z",
     "start_time": "2024-07-09T16:52:19.404901Z"
    }
   },
   "id": "8d4d1f6650c19d5d"
  },
  {
   "cell_type": "markdown",
   "source": [
    "As seen, fetches semantically closest thing. How do we get the rating and the actual food item? Simple text splitting."
   ],
   "metadata": {
    "collapsed": false
   },
   "id": "b55530f88ba1e39a"
  },
  {
   "cell_type": "raw",
   "source": [
    "foodItem = match.split(\":\")[0]\n",
    "print(foodItem)\n",
    "rating = match.split(\":\")[1]\n",
    "print(rating)"
   ],
   "metadata": {
    "collapsed": false
   },
   "id": "afdb79824ad14b9"
  },
  {
   "cell_type": "raw",
   "source": [
    "Ok, test out long description and see if it can semantically see the most similar thing."
   ],
   "metadata": {
    "collapsed": false
   },
   "id": "9eefc6567a18bc4d"
  },
  {
   "cell_type": "code",
   "execution_count": 44,
   "outputs": [
    {
     "data": {
      "text/plain": "\"Hershey's Milk Chocolate Bar:D\""
     },
     "execution_count": 44,
     "metadata": {},
     "output_type": "execute_result"
    }
   ],
   "source": [
    "longDescription = \"A cookies and cream chocolate bar with a lot of sugar and a decent amount of fat\"\n",
    "match = retriever.invoke(input=longDescription)[0].page_content\n",
    "match"
   ],
   "metadata": {
    "collapsed": false,
    "ExecuteTime": {
     "end_time": "2024-07-09T17:00:08.204061Z",
     "start_time": "2024-07-09T17:00:08.074419Z"
    }
   },
   "id": "ca17ea1b981f7cbe"
  },
  {
   "cell_type": "markdown",
   "source": [
    "As seen above, it works. "
   ],
   "metadata": {
    "collapsed": false
   },
   "id": "8397c85a12b92730"
  },
  {
   "cell_type": "raw",
   "source": [
    "Now, named entity recognition based on intensifiers. Too linear to assign through NER. So we will have an LLM agent perform NER given a few rules."
   ],
   "metadata": {
    "collapsed": false
   },
   "id": "eab1ca7d595b02c4"
  },
  {
   "cell_type": "markdown",
   "source": [],
   "metadata": {
    "collapsed": false
   },
   "id": "9d589c68f7799187"
  },
  {
   "cell_type": "code",
   "execution_count": 74,
   "outputs": [],
   "source": [
    "from langchain_openai import ChatOpenAI\n",
    "from langchain_experimental.tools import PythonREPLTool\n",
    "import os\n",
    "import getpass\n",
    "\n",
    "os.environ[\"OPENAI_API_KEY\"] = getpass.getpass()"
   ],
   "metadata": {
    "collapsed": false,
    "ExecuteTime": {
     "end_time": "2024-07-09T17:50:35.855188Z",
     "start_time": "2024-07-09T17:50:28.467528Z"
    }
   },
   "id": "3f3d23439a3a0e64"
  },
  {
   "cell_type": "code",
   "execution_count": 89,
   "outputs": [],
   "source": [
    "model = ChatOpenAI(model = \"gpt-3.5-turbo-16k\")"
   ],
   "metadata": {
    "collapsed": false,
    "ExecuteTime": {
     "end_time": "2024-07-09T17:54:24.530242Z",
     "start_time": "2024-07-09T17:54:24.499044Z"
    }
   },
   "id": "568378dc53864861"
  },
  {
   "cell_type": "code",
   "execution_count": 109,
   "outputs": [],
   "source": [
    "from langchain.agents import create_openai_functions_agent\n",
    "\n",
    "pythonTools = PythonREPLTool()\n",
    "tools = []\n",
    "tools.append(pythonTools)\n",
    "\n",
    "modelWithTools = model.bind_tools(tools)"
   ],
   "metadata": {
    "collapsed": false,
    "ExecuteTime": {
     "end_time": "2024-07-09T17:58:30.533624Z",
     "start_time": "2024-07-09T17:58:30.528753Z"
    }
   },
   "id": "3e3bd4d64cfa0289"
  },
  {
   "cell_type": "code",
   "execution_count": 136,
   "outputs": [],
   "source": [
    "instructions = ('You are a ratings generator for foods based on their healthyness. Identify all foods or ingredients in the given description, and identify them as healthy or unhealthy. Then, assess the intensifiers for these foods or ingredients. If there are more healthy foods/ingredients than unhealthy ones, and if the intensifiers for the healthy ones are stronger than the unhealthy ones, return a +. Else if  there are more unhealthy foods/ingredients than healthy ones, and if the intensifiers for the unhealthy ones are stronger than the healthy ones, return a -. If there are the same number of unhealthy foods/ingredients as healthy foods/ingreidients, assess the intensifiers and return + if the healthy ones have stronger intensifiers or - if the unhealthy ones have stronger intensifiers. ALWAYS GIVE A DEFINITE RATING (+, - OR NEUTRAL). DO NOT LEAVE THIS OUT. SIMPLY FOLLOW THE INSTRUCTIONS ABOVE, DO NOT TRY TO INTERPRET ANYTHING.'\n",
    "                'Example output:'\n",
    "                '[\\'a\\', \\'fiber-packed\\', \\'cookies\\', \\'and\\', \\'cream\\', \\'bar\\', \\'with\\', \\'no\\', \\'sugar\\', \\'and\\', \\'healthy\\', \\'fat\\']\\nBased on the given description, here is the assessment of each food item and its intensifier connotation:\\n\\n1. Fiber-packed: Healthy intensifier\\n2. Cookies: Unhealthy food\\n3. Cream: Unhealthy food\\n4. Bar: Neutral food\\n5. No sugar: Healthy intensifier\\n6. Healthy fat: Healthy intensifier\\n\\nNow, let\\'s count the number of healthy and unhealthy food items:\\n\\nHealthy foods/ingredients: 3 (Fiber-packed, No sugar, Healthy fat)\\nUnhealthy foods/ingredients: 2 (Cookies, Cream)\\n\\nNext, let\\'s assess the intensifiers:\\n\\nHealthy intensifiers: 2 (Fiber-packed, No sugar)\\nUnhealthy intensifiers: 0\\n\\nSince there are more healthy foods/ingredients than unhealthy ones, and the intensifiers for the healthy ones are stronger than the unhealthy ones, the overall rating for this description is \"+\".'\n",
    "                ''\n",
    "                ''\n",
    "                '')"
   ],
   "metadata": {
    "collapsed": false,
    "ExecuteTime": {
     "end_time": "2024-07-09T18:06:06.631766Z",
     "start_time": "2024-07-09T18:06:06.630044Z"
    }
   },
   "id": "6c5d0debab056774"
  },
  {
   "cell_type": "code",
   "execution_count": 137,
   "outputs": [],
   "source": [
    "from langchain import hub\n",
    "base_prompt = hub.pull(\"langchain-ai/openai-functions-template\")\n",
    "prompt = base_prompt.partial(instructions=instructions)\n",
    "agent = create_openai_functions_agent(llm=model, tools=tools, prompt=prompt)"
   ],
   "metadata": {
    "collapsed": false,
    "ExecuteTime": {
     "end_time": "2024-07-09T18:06:07.787129Z",
     "start_time": "2024-07-09T18:06:07.511910Z"
    }
   },
   "id": "55fd5f9e99fb0ea3"
  },
  {
   "cell_type": "code",
   "execution_count": 138,
   "outputs": [],
   "source": [
    "from langchain.agents import AgentExecutor\n",
    "agentExecutor = AgentExecutor(agent=agent, tools=tools, prompt=prompt)"
   ],
   "metadata": {
    "collapsed": false,
    "ExecuteTime": {
     "end_time": "2024-07-09T18:06:08.227857Z",
     "start_time": "2024-07-09T18:06:08.220854Z"
    }
   },
   "id": "a10634f54ef16ec5"
  },
  {
   "cell_type": "code",
   "execution_count": 139,
   "outputs": [
    {
     "data": {
      "text/plain": "'[\\'A\\', \\'cookies\\', \\'and\\', \\'cream\\', \\'chocolate\\', \\'bar\\', \\'with\\', \\'a\\', \\'lot\\', \\'of\\', \\'sugar\\', \\'and\\', \\'a\\', \\'decent\\', \\'amount\\', \\'of\\', \\'fat\\']\\nBased on the given description, here is the assessment of each food item and its intensifier connotation:\\n\\n1. Cookies: Unhealthy food\\n2. Cream: Unhealthy food\\n3. Chocolate: Unhealthy food\\n4. Bar: Neutral food\\n5. Sugar: Unhealthy intensifier\\n6. Fat: Unhealthy intensifier\\n\\nNow, let\\'s count the number of healthy and unhealthy food items:\\n\\nHealthy foods/ingredients: 0\\nUnhealthy foods/ingredients: 3 (Cookies, Cream, Chocolate)\\n\\nNext, let\\'s assess the intensifiers:\\n\\nHealthy intensifiers: 0\\nUnhealthy intensifiers: 2 (Sugar, Fat)\\n\\nSince there are more unhealthy foods/ingredients than healthy ones, and the intensifiers for the unhealthy ones are stronger than the healthy ones, the overall rating for this description is \"-\".'"
     },
     "execution_count": 139,
     "metadata": {},
     "output_type": "execute_result"
    }
   ],
   "source": [
    "agentExecutor.invoke({\"input\":\"Assess whether this description should return a + or - by assessing all food items and their respective intensifier connotations as seen in the prompt: A cookies and cream chocolate bar with a lot of sugar and a decent amount of fat\"})['output']"
   ],
   "metadata": {
    "collapsed": false,
    "ExecuteTime": {
     "end_time": "2024-07-09T18:06:12.647009Z",
     "start_time": "2024-07-09T18:06:08.716779Z"
    }
   },
   "id": "e618009b484afc48"
  },
  {
   "cell_type": "code",
   "execution_count": 140,
   "outputs": [
    {
     "data": {
      "text/plain": "'[\\'A\\', \\'cookies\\', \\'and\\', \\'cream\\', \\'chocolate\\', \\'bar\\', \\'with\\', \\'no\\', \\'sugar\\', \\'and\\', \\'some\\', \\'fat\\']\\nBased on the given description, here is the assessment of each food item and its intensifier connotation:\\n\\n1. Cookies: Unhealthy food\\n2. Cream: Unhealthy food\\n3. Chocolate: Unhealthy food\\n4. Bar: Neutral food\\n5. No sugar: Healthy intensifier\\n6. Some fat: Healthy intensifier\\n\\nNow, let\\'s count the number of healthy and unhealthy food items:\\n\\nHealthy foods/ingredients: 2 (No sugar, Some fat)\\nUnhealthy foods/ingredients: 3 (Cookies, Cream, Chocolate)\\n\\nNext, let\\'s assess the intensifiers:\\n\\nHealthy intensifiers: 2 (No sugar, Some fat)\\nUnhealthy intensifiers: 0\\n\\nSince there are more unhealthy foods/ingredients than healthy ones, and there are no unhealthy intensifiers, the overall rating for this description is \"-\".'"
     },
     "execution_count": 140,
     "metadata": {},
     "output_type": "execute_result"
    }
   ],
   "source": [
    "agentExecutor.invoke({\"input\":\"Assess whether this description should return a + or - by assessing all food items and their respective intensifier connotations as seen in the prompt: A cookies and cream chocolate bar with no sugar and some fat\"})['output']\n"
   ],
   "metadata": {
    "collapsed": false,
    "ExecuteTime": {
     "end_time": "2024-07-09T18:17:32.640988Z",
     "start_time": "2024-07-09T18:17:27.891132Z"
    }
   },
   "id": "1eee5b71f0b1ccbd"
  },
  {
   "cell_type": "code",
   "execution_count": 141,
   "outputs": [
    {
     "data": {
      "text/plain": "'[\\'A\\', \\'fiber-packed\\', \\'cookies\\', \\'and\\', \\'cream\\', \\'bar\\', \\'with\\', \\'no\\', \\'sugar\\', \\'and\\', \\'healthy\\', \\'fat\\']\\nBased on the given description, here is the assessment of each food item and its intensifier connotation:\\n\\n1. Fiber-packed: Healthy intensifier\\n2. Cookies: Unhealthy food\\n3. Cream: Unhealthy food\\n4. Bar: Neutral food\\n5. No sugar: Healthy intensifier\\n6. Healthy fat: Healthy intensifier\\n\\nNow, let\\'s count the number of healthy and unhealthy food items:\\n\\nHealthy foods/ingredients: 3 (Fiber-packed, No sugar, Healthy fat)\\nUnhealthy foods/ingredients: 2 (Cookies, Cream)\\n\\nNext, let\\'s assess the intensifiers:\\n\\nHealthy intensifiers: 2 (Fiber-packed, No sugar)\\nUnhealthy intensifiers: 0\\n\\nSince there are more healthy foods/ingredients than unhealthy ones, and the intensifiers for the healthy ones are stronger than the unhealthy ones, the overall rating for this description is \"+\".'"
     },
     "execution_count": 141,
     "metadata": {},
     "output_type": "execute_result"
    }
   ],
   "source": [
    "agentExecutor.invoke({\"input\":\"Assess whether this description should return a + or - by assessing all food items and their respective intensifier connotations as seen in the prompt: A fiber-packed cookies and cream  bar with no sugar and healthy fat\"})['output']\n"
   ],
   "metadata": {
    "collapsed": false,
    "ExecuteTime": {
     "end_time": "2024-07-09T18:18:33.295088Z",
     "start_time": "2024-07-09T18:18:29.812753Z"
    }
   },
   "id": "789d8280fa4aa486"
  },
  {
   "cell_type": "code",
   "execution_count": null,
   "outputs": [],
   "source": [],
   "metadata": {
    "collapsed": false
   },
   "id": "104bae4ce411cdf7"
  }
 ],
 "metadata": {
  "kernelspec": {
   "display_name": "Python 3",
   "language": "python",
   "name": "python3"
  },
  "language_info": {
   "codemirror_mode": {
    "name": "ipython",
    "version": 2
   },
   "file_extension": ".py",
   "mimetype": "text/x-python",
   "name": "python",
   "nbconvert_exporter": "python",
   "pygments_lexer": "ipython2",
   "version": "2.7.6"
  }
 },
 "nbformat": 4,
 "nbformat_minor": 5
}
